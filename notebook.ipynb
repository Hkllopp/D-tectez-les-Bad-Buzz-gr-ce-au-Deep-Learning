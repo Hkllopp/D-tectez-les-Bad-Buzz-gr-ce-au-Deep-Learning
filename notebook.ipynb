{
 "cells": [
  {
   "cell_type": "code",
   "execution_count": null,
   "metadata": {},
   "outputs": [],
   "source": [
    "import pandas as pd\n",
    "\n",
    "# import csv\n",
    "raw_data = pd.read_csv('data/training.1600000.processed.noemoticon.csv')\n",
    "raw_data"
   ]
  }
 ],
 "metadata": {
  "kernelspec": {
   "display_name": "Python 3.10.4 ('env': venv)",
   "language": "python",
   "name": "python3"
  },
  "language_info": {
   "name": "python",
   "version": "3.10.4"
  },
  "orig_nbformat": 4,
  "vscode": {
   "interpreter": {
    "hash": "d9c4a45f90ea7accfc80c7c33c04e533dd49a951aeea4333815f26f962f1c8d9"
   }
  }
 },
 "nbformat": 4,
 "nbformat_minor": 2
}
