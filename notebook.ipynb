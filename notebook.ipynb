{
 "cells": [
  {
   "cell_type": "markdown",
   "metadata": {},
   "source": [
    "## Context\n",
    "This is the sentiment140 dataset. It contains 1,600,000 tweets extracted using the twitter api . The tweets have been annotated (0 = negative, 4 = positive) and they can be used to detect sentiment ."
   ]
  },
  {
   "cell_type": "code",
   "execution_count": 1,
   "metadata": {},
   "outputs": [
    {
     "data": {
      "text/html": [
       "<div>\n",
       "<style scoped>\n",
       "    .dataframe tbody tr th:only-of-type {\n",
       "        vertical-align: middle;\n",
       "    }\n",
       "\n",
       "    .dataframe tbody tr th {\n",
       "        vertical-align: top;\n",
       "    }\n",
       "\n",
       "    .dataframe thead th {\n",
       "        text-align: right;\n",
       "    }\n",
       "</style>\n",
       "<table border=\"1\" class=\"dataframe\">\n",
       "  <thead>\n",
       "    <tr style=\"text-align: right;\">\n",
       "      <th></th>\n",
       "      <th>target</th>\n",
       "      <th>ids</th>\n",
       "      <th>date</th>\n",
       "      <th>flag</th>\n",
       "      <th>user</th>\n",
       "      <th>text</th>\n",
       "    </tr>\n",
       "  </thead>\n",
       "  <tbody>\n",
       "    <tr>\n",
       "      <th>0</th>\n",
       "      <td>0</td>\n",
       "      <td>1467810369</td>\n",
       "      <td>Mon Apr 06 22:19:45 PDT 2009</td>\n",
       "      <td>NO_QUERY</td>\n",
       "      <td>_TheSpecialOne_</td>\n",
       "      <td>@switchfoot http://twitpic.com/2y1zl - Awww, t...</td>\n",
       "    </tr>\n",
       "    <tr>\n",
       "      <th>1</th>\n",
       "      <td>0</td>\n",
       "      <td>1467810672</td>\n",
       "      <td>Mon Apr 06 22:19:49 PDT 2009</td>\n",
       "      <td>NO_QUERY</td>\n",
       "      <td>scotthamilton</td>\n",
       "      <td>is upset that he can't update his Facebook by ...</td>\n",
       "    </tr>\n",
       "    <tr>\n",
       "      <th>2</th>\n",
       "      <td>0</td>\n",
       "      <td>1467810917</td>\n",
       "      <td>Mon Apr 06 22:19:53 PDT 2009</td>\n",
       "      <td>NO_QUERY</td>\n",
       "      <td>mattycus</td>\n",
       "      <td>@Kenichan I dived many times for the ball. Man...</td>\n",
       "    </tr>\n",
       "    <tr>\n",
       "      <th>3</th>\n",
       "      <td>0</td>\n",
       "      <td>1467811184</td>\n",
       "      <td>Mon Apr 06 22:19:57 PDT 2009</td>\n",
       "      <td>NO_QUERY</td>\n",
       "      <td>ElleCTF</td>\n",
       "      <td>my whole body feels itchy and like its on fire</td>\n",
       "    </tr>\n",
       "    <tr>\n",
       "      <th>4</th>\n",
       "      <td>0</td>\n",
       "      <td>1467811193</td>\n",
       "      <td>Mon Apr 06 22:19:57 PDT 2009</td>\n",
       "      <td>NO_QUERY</td>\n",
       "      <td>Karoli</td>\n",
       "      <td>@nationwideclass no, it's not behaving at all....</td>\n",
       "    </tr>\n",
       "  </tbody>\n",
       "</table>\n",
       "</div>"
      ],
      "text/plain": [
       "   target         ids                          date      flag  \\\n",
       "0       0  1467810369  Mon Apr 06 22:19:45 PDT 2009  NO_QUERY   \n",
       "1       0  1467810672  Mon Apr 06 22:19:49 PDT 2009  NO_QUERY   \n",
       "2       0  1467810917  Mon Apr 06 22:19:53 PDT 2009  NO_QUERY   \n",
       "3       0  1467811184  Mon Apr 06 22:19:57 PDT 2009  NO_QUERY   \n",
       "4       0  1467811193  Mon Apr 06 22:19:57 PDT 2009  NO_QUERY   \n",
       "\n",
       "              user                                               text  \n",
       "0  _TheSpecialOne_  @switchfoot http://twitpic.com/2y1zl - Awww, t...  \n",
       "1    scotthamilton  is upset that he can't update his Facebook by ...  \n",
       "2         mattycus  @Kenichan I dived many times for the ball. Man...  \n",
       "3          ElleCTF    my whole body feels itchy and like its on fire   \n",
       "4           Karoli  @nationwideclass no, it's not behaving at all....  "
      ]
     },
     "execution_count": 1,
     "metadata": {},
     "output_type": "execute_result"
    }
   ],
   "source": [
    "import pandas as pd\n",
    "\n",
    "# import csv\n",
    "raw_data = pd.read_csv('data/training.1600000.processed.noemoticon.csv', encoding='latin-1', names=['target', 'ids', 'date', 'flag', 'user', 'text'])\n",
    "raw_data.head()"
   ]
  },
  {
   "cell_type": "markdown",
   "metadata": {},
   "source": [
    "## Content\n",
    "It contains the following 6 fields:\n",
    "1. target: the polarity of the tweet (0 = negative, 2 = neutral, 4 = positive)\n",
    "2. ids: The id of the tweet\n",
    "3. date: the date of the tweet\n",
    "4. flag: The query. If there is no query, then this value is NO_QUERY.\n",
    "5. user: the user that tweeted\n",
    "6. text: the text of the tweet"
   ]
  },
  {
   "cell_type": "code",
   "execution_count": 2,
   "metadata": {},
   "outputs": [],
   "source": [
    "data = raw_data.copy(deep=True)\n",
    "data['target'] = data['target'].map(lambda x: 1 if x == 4 else 0).astype('bool')\n",
    "data['ids'] = data['ids'].astype('str')\n",
    "data['date'] = data['date'].astype('str') # We will convert them to date if useful later, now we just want to reduce the size of the dataframe\n",
    "data['flag'] = data['flag'].astype('str')\n",
    "data['user'] = data['user'].astype('str')\n",
    "data['text'] = data['text'].astype('str')"
   ]
  },
  {
   "cell_type": "code",
   "execution_count": 35,
   "metadata": {},
   "outputs": [
    {
     "name": "stdout",
     "output_type": "stream",
     "text": [
      "target bool\n",
      "0    False\n",
      "1    False\n",
      "2    False\n",
      "3    False\n",
      "4    False\n",
      "Name: target, dtype: bool\n",
      "False    800000\n",
      "True     800000\n",
      "Name: target, dtype: int64\n",
      "\n",
      "\n",
      "ids object\n",
      "0    1467810369\n",
      "1    1467810672\n",
      "2    1467810917\n",
      "3    1467811184\n",
      "4    1467811193\n",
      "Name: ids, dtype: object\n",
      "2190457769    2\n",
      "1972193428    2\n",
      "1989776729    2\n",
      "1989776908    2\n",
      "1564543229    2\n",
      "             ..\n",
      "2197311196    1\n",
      "2197311146    1\n",
      "2197310899    1\n",
      "2197310477    1\n",
      "2193602129    1\n",
      "Name: ids, Length: 1598315, dtype: int64\n",
      "\n",
      "\n",
      "date object\n",
      "0    Mon Apr 06 22:19:45 PDT 2009\n",
      "1    Mon Apr 06 22:19:49 PDT 2009\n",
      "2    Mon Apr 06 22:19:53 PDT 2009\n",
      "3    Mon Apr 06 22:19:57 PDT 2009\n",
      "4    Mon Apr 06 22:19:57 PDT 2009\n",
      "Name: date, dtype: object\n",
      "Mon Jun 15 12:53:14 PDT 2009    20\n",
      "Fri May 29 13:40:04 PDT 2009    17\n",
      "Fri May 22 05:10:17 PDT 2009    17\n",
      "Mon Jun 15 13:39:50 PDT 2009    17\n",
      "Fri Jun 05 14:13:07 PDT 2009    16\n",
      "                                ..\n",
      "Sun Jun 07 12:36:07 PDT 2009     1\n",
      "Sun Jun 07 12:36:04 PDT 2009     1\n",
      "Sun Jun 07 12:36:03 PDT 2009     1\n",
      "Sun Jun 07 12:36:02 PDT 2009     1\n",
      "Tue Jun 16 08:40:50 PDT 2009     1\n",
      "Name: date, Length: 774363, dtype: int64\n",
      "\n",
      "\n",
      "flag object\n",
      "0    NO_QUERY\n",
      "1    NO_QUERY\n",
      "2    NO_QUERY\n",
      "3    NO_QUERY\n",
      "4    NO_QUERY\n",
      "Name: flag, dtype: object\n",
      "NO_QUERY    1600000\n",
      "Name: flag, dtype: int64\n",
      "\n",
      "\n",
      "user object\n",
      "0    _TheSpecialOne_\n",
      "1      scotthamilton\n",
      "2           mattycus\n",
      "3            ElleCTF\n",
      "4             Karoli\n",
      "Name: user, dtype: object\n",
      "lost_dog           549\n",
      "webwoke            345\n",
      "tweetpet           310\n",
      "SallytheShizzle    281\n",
      "VioletsCRUK        279\n",
      "                  ... \n",
      "67trinity            1\n",
      "Sibby                1\n",
      "mAnyA_15             1\n",
      "49ersfan111          1\n",
      "bpbabe               1\n",
      "Name: user, Length: 659775, dtype: int64\n",
      "\n",
      "\n",
      "text object\n",
      "0    @switchfoot http://twitpic.com/2y1zl - Awww, t...\n",
      "1    is upset that he can't update his Facebook by ...\n",
      "2    @Kenichan I dived many times for the ball. Man...\n",
      "3      my whole body feels itchy and like its on fire \n",
      "4    @nationwideclass no, it's not behaving at all....\n",
      "Name: text, dtype: object\n",
      "isPlayer Has Died! Sorry                                                                              210\n",
      "good morning                                                                                          118\n",
      "headache                                                                                              115\n",
      "Good morning                                                                                          112\n",
      "Headache                                                                                              106\n",
      "                                                                                                     ... \n",
      "braces  tell me it will be okay...                                                                      1\n",
      "is stuck at home without curry                                                                          1\n",
      "@mrsduryee I've applied to about 70 since I lost my job in March...it certainly FEELS like a lot!       1\n",
      "The cheese I got @SarawithanR lost its squeak                                                           1\n",
      "happy #charitytuesday @theNSPCC @SparksCharity @SpeakingUpH4H                                           1\n",
      "Name: text, Length: 1581466, dtype: int64\n",
      "\n",
      "\n"
     ]
    }
   ],
   "source": [
    "for col in data.columns:\n",
    "    print(col, data[col].dtype)\n",
    "    print(data[col].head())\n",
    "    print(data[col].value_counts())\n",
    "    print('\\n')"
   ]
  },
  {
   "cell_type": "markdown",
   "metadata": {},
   "source": [
    "In order to do a regression on the text, we need to clean those tweets."
   ]
  },
  {
   "cell_type": "code",
   "execution_count": 3,
   "metadata": {},
   "outputs": [],
   "source": [
    "from sklearn.feature_extraction.text import CountVectorizer\n",
    "\n",
    "corpus = data['text']\n",
    "vectorizer = CountVectorizer(max_features=1000)\n",
    "X = vectorizer.fit_transform(corpus)\n",
    "Y = data['target']"
   ]
  },
  {
   "cell_type": "code",
   "execution_count": 4,
   "metadata": {},
   "outputs": [
    {
     "name": "stdout",
     "output_type": "stream",
     "text": [
      "Training time: 227.71447253227234\n"
     ]
    }
   ],
   "source": [
    "from sklearn.model_selection import train_test_split\n",
    "from sklearn.linear_model import LogisticRegression\n",
    "import time\n",
    "\n",
    "X_train, X_test, Y_train, Y_test = train_test_split(X, Y, test_size=0.2, random_state=42)\n",
    "\n",
    "model = LogisticRegression(penalty=\"elasticnet\", solver='saga', max_iter=1000, l1_ratio=0.1)\n",
    "start = time.time()\n",
    "model.fit(X_train, Y_train)\n",
    "end = time.time()\n",
    "print(\"Training time:\", end - start, 's')\n",
    "Y_pred = model.predict(X_test)"
   ]
  },
  {
   "cell_type": "code",
   "execution_count": 9,
   "metadata": {},
   "outputs": [
    {
     "data": {
      "image/png": "[encoded data removed]",
      "text/plain": [
       "<Figure size 432x288 with 1 Axes>"
      ]
     },
     "metadata": {},
     "output_type": "display_data"
    },
    {
     "data": {
      "image/png": "[encoded data removed]",
      "text/plain": [
       "<Figure size 432x288 with 1 Axes>"
      ]
     },
     "metadata": {},
     "output_type": "display_data"
    }
   ],
   "source": [
    "import matplotlib.pyplot as plt\n",
    "import seaborn as sns\n",
    "from sklearn.metrics import roc_curve, auc, confusion_matrix\n",
    "\n",
    "\n",
    "\n",
    "\n",
    "cnf_matrix = confusion_matrix(Y_test, Y_pred)\n",
    "ax = sns.heatmap(cnf_matrix, annot=True, fmt='d', cmap='Blues', cbar=False)\n",
    "ax.set_xlabel('Predicted labels')\n",
    "ax.set_ylabel('True labels')\n",
    "ax.set_title('Confusion matrix')\n",
    "plt.gcf().set_facecolor('white')\n",
    "plt.show()\n",
    "\n",
    "roc = roc_curve(Y_test, Y_pred)\n",
    "roc_auc = auc(roc[0], roc[1])\n",
    "\n",
    "plt.figure()\n",
    "plt.plot(roc[0], roc[1], color='darkorange', label='ROC curve (area = %0.2f)' % roc_auc)\n",
    "plt.plot([0, 1], [0, 1], color='navy',linestyle='--')\n",
    "plt.xlim([0.0, 1.0])\n",
    "plt.ylim([0.0, 1.0])\n",
    "plt.xlabel('False Positive Rate')\n",
    "plt.ylabel('True Positive Rate')\n",
    "plt.title('Receiver operating characteristic example')\n",
    "plt.legend(loc=\"lower right\")\n",
    "plt.gcf().set_facecolor('white')\n",
    "plt.show()"
   ]
  },
  {
   "cell_type": "markdown",
   "metadata": {},
   "source": [
    "Let's analyse what are the decisive weights/words."
   ]
  },
  {
   "cell_type": "code",
   "execution_count": 33,
   "metadata": {},
   "outputs": [
    {
     "name": "stdout",
     "output_type": "stream",
     "text": [
      "['smile', 'welcome', 'followfriday', 'proud', 'congrats', 'thanks', 'thank', 'thx', 'worry', 'loving']\n",
      "['2nd', 'year', 'yet', 'yesterday', '30', '2day', 'wrong', 'lose', 'leaving', 'wtf']\n"
     ]
    }
   ],
   "source": [
    "import numpy as np\n",
    "\n",
    "# Getting the index of the 10 best coefs\n",
    "ind = np.argpartition(model.coef_[0], -10)[-10:]\n",
    "sorted_ind = np.flip(ind[np.argsort(model.coef_[0][ind])])\n",
    "vectorizer_features = vectorizer.get_feature_names_out()\n",
    "important_words = [vectorizer_features[word_coef] for word_coef in sorted_ind]\n",
    "print(important_words)\n",
    "\n",
    "# Same for the words that are the most decisive for negative tweets\n",
    "ind = np.argpartition(model.coef_[0], -10)[:10]\n",
    "sorted_ind = np.flip(ind[np.argsort(model.coef_[0][ind])])\n",
    "vectorizer_features = vectorizer.get_feature_names_out()\n",
    "important_words = [vectorizer_features[word_coef] for word_coef in sorted_ind]\n",
    "print(important_words)"
   ]
  }
 ],
 "metadata": {
  "kernelspec": {
   "display_name": "Python 3.10.4 ('env': venv)",
   "language": "python",
   "name": "python3"
  },
  "language_info": {
   "codemirror_mode": {
    "name": "ipython",
    "version": 3
   },
   "file_extension": ".py",
   "mimetype": "text/x-python",
   "name": "python",
   "nbconvert_exporter": "python",
   "pygments_lexer": "ipython3",
   "version": "3.10.4"
  },
  "orig_nbformat": 4,
  "vscode": {
   "interpreter": {
    "hash": "d9c4a45f90ea7accfc80c7c33c04e533dd49a951aeea4333815f26f962f1c8d9"
   }
  }
 },
 "nbformat": 4,
 "nbformat_minor": 2
}
