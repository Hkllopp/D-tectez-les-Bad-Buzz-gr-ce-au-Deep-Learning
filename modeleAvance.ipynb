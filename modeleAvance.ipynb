{
 "cells": [
  {
   "cell_type": "code",
   "execution_count": 3,
   "metadata": {},
   "outputs": [
    {
     "name": "stdout",
     "output_type": "stream",
     "text": [
      "Num GPUs Available:  0\n",
      "Num CPUs Available:  1\n"
     ]
    }
   ],
   "source": [
    "import tensorflow as tf\n",
    "print(\"Num GPUs Available: \", len(tf.config.list_physical_devices('GPU')))\n",
    "print(\"Num CPUs Available: \", len(tf.config.list_physical_devices('CPU')))"
   ]
  },
  {
   "cell_type": "markdown",
   "metadata": {},
   "source": [
    "## Modele Avance"
   ]
  },
  {
   "cell_type": "markdown",
   "metadata": {},
   "source": [
    "A la différence du notebook précédent, ici les deux étapes servant à faire la prédiction vont être remplacée :\n",
    "- La traduction du mot en vecteur (word embedding) ne sera plus assurée par un CountVectorizer (qui ne faisait que compter les mots dans la phrase) mais par un modèle déjà entrainé qui place chaque mot comme un point dans un espace de grande dimension (word2vec ou GloVe)\n",
    "- L'étape de prédiction, qui était faite avec une régression logistique sera assurée par un réseau de neurone mis en bout de chaine du modèle de word embedding."
   ]
  },
  {
   "cell_type": "markdown",
   "metadata": {},
   "source": [
    "## Context\n",
    "This is the sentiment140 dataset. It contains 1,600,000 tweets extracted using the twitter api . The tweets have been annotated (0 = negative, 4 = positive) and they can be used to detect sentiment ."
   ]
  },
  {
   "cell_type": "code",
   "execution_count": 4,
   "metadata": {},
   "outputs": [
    {
     "data": {
      "text/html": [
       "<div>\n",
       "<style scoped>\n",
       "    .dataframe tbody tr th:only-of-type {\n",
       "        vertical-align: middle;\n",
       "    }\n",
       "\n",
       "    .dataframe tbody tr th {\n",
       "        vertical-align: top;\n",
       "    }\n",
       "\n",
       "    .dataframe thead th {\n",
       "        text-align: right;\n",
       "    }\n",
       "</style>\n",
       "<table border=\"1\" class=\"dataframe\">\n",
       "  <thead>\n",
       "    <tr style=\"text-align: right;\">\n",
       "      <th></th>\n",
       "      <th>target</th>\n",
       "      <th>ids</th>\n",
       "      <th>date</th>\n",
       "      <th>flag</th>\n",
       "      <th>user</th>\n",
       "      <th>text</th>\n",
       "    </tr>\n",
       "  </thead>\n",
       "  <tbody>\n",
       "    <tr>\n",
       "      <th>0</th>\n",
       "      <td>0</td>\n",
       "      <td>1467810369</td>\n",
       "      <td>Mon Apr 06 22:19:45 PDT 2009</td>\n",
       "      <td>NO_QUERY</td>\n",
       "      <td>_TheSpecialOne_</td>\n",
       "      <td>@switchfoot http://twitpic.com/2y1zl - Awww, t...</td>\n",
       "    </tr>\n",
       "    <tr>\n",
       "      <th>1</th>\n",
       "      <td>0</td>\n",
       "      <td>1467810672</td>\n",
       "      <td>Mon Apr 06 22:19:49 PDT 2009</td>\n",
       "      <td>NO_QUERY</td>\n",
       "      <td>scotthamilton</td>\n",
       "      <td>is upset that he can't update his Facebook by ...</td>\n",
       "    </tr>\n",
       "    <tr>\n",
       "      <th>2</th>\n",
       "      <td>0</td>\n",
       "      <td>1467810917</td>\n",
       "      <td>Mon Apr 06 22:19:53 PDT 2009</td>\n",
       "      <td>NO_QUERY</td>\n",
       "      <td>mattycus</td>\n",
       "      <td>@Kenichan I dived many times for the ball. Man...</td>\n",
       "    </tr>\n",
       "    <tr>\n",
       "      <th>3</th>\n",
       "      <td>0</td>\n",
       "      <td>1467811184</td>\n",
       "      <td>Mon Apr 06 22:19:57 PDT 2009</td>\n",
       "      <td>NO_QUERY</td>\n",
       "      <td>ElleCTF</td>\n",
       "      <td>my whole body feels itchy and like its on fire</td>\n",
       "    </tr>\n",
       "    <tr>\n",
       "      <th>4</th>\n",
       "      <td>0</td>\n",
       "      <td>1467811193</td>\n",
       "      <td>Mon Apr 06 22:19:57 PDT 2009</td>\n",
       "      <td>NO_QUERY</td>\n",
       "      <td>Karoli</td>\n",
       "      <td>@nationwideclass no, it's not behaving at all....</td>\n",
       "    </tr>\n",
       "  </tbody>\n",
       "</table>\n",
       "</div>"
      ],
      "text/plain": [
       "   target         ids                          date      flag  \\\n",
       "0       0  1467810369  Mon Apr 06 22:19:45 PDT 2009  NO_QUERY   \n",
       "1       0  1467810672  Mon Apr 06 22:19:49 PDT 2009  NO_QUERY   \n",
       "2       0  1467810917  Mon Apr 06 22:19:53 PDT 2009  NO_QUERY   \n",
       "3       0  1467811184  Mon Apr 06 22:19:57 PDT 2009  NO_QUERY   \n",
       "4       0  1467811193  Mon Apr 06 22:19:57 PDT 2009  NO_QUERY   \n",
       "\n",
       "              user                                               text  \n",
       "0  _TheSpecialOne_  @switchfoot http://twitpic.com/2y1zl - Awww, t...  \n",
       "1    scotthamilton  is upset that he can't update his Facebook by ...  \n",
       "2         mattycus  @Kenichan I dived many times for the ball. Man...  \n",
       "3          ElleCTF    my whole body feels itchy and like its on fire   \n",
       "4           Karoli  @nationwideclass no, it's not behaving at all....  "
      ]
     },
     "execution_count": 4,
     "metadata": {},
     "output_type": "execute_result"
    }
   ],
   "source": [
    "import pandas as pd\n",
    "\n",
    "# import csv\n",
    "raw_data = pd.read_csv('data/training.1600000.processed.noemoticon.csv', encoding='latin-1', names=['target', 'ids', 'date', 'flag', 'user', 'text'])\n",
    "raw_data.head()"
   ]
  },
  {
   "cell_type": "markdown",
   "metadata": {},
   "source": [
    "## Content\n",
    "It contains the following 6 fields:\n",
    "1. target: the polarity of the tweet (0 = negative, 2 = neutral, 4 = positive)\n",
    "2. ids: The id of the tweet\n",
    "3. date: the date of the tweet\n",
    "4. flag: The query. If there is no query, then this value is NO_QUERY.\n",
    "5. user: the user that tweeted\n",
    "6. text: the text of the tweet"
   ]
  },
  {
   "cell_type": "code",
   "execution_count": 5,
   "metadata": {},
   "outputs": [],
   "source": [
    "sample_size = 1000 # Number of tweets to use for this notebook\n",
    "\n",
    "data = raw_data.sample(sample_size).copy(deep=True)\n",
    "data['target'] = data['target'].map(lambda x: 1 if x == 4 else 0).astype('bool')\n",
    "data['ids'] = data['ids'].astype('str')\n",
    "data['date'] = data['date'].astype('str') # We will convert them to date if useful later, now we just want to reduce the size of the dataframe\n",
    "data['flag'] = data['flag'].astype('str')\n",
    "data['user'] = data['user'].astype('str')\n",
    "data['text'] = data['text'].astype('str')"
   ]
  },
  {
   "cell_type": "code",
   "execution_count": 6,
   "metadata": {},
   "outputs": [
    {
     "name": "stdout",
     "output_type": "stream",
     "text": [
      "target bool\n",
      "994881     True\n",
      "338325    False\n",
      "680040    False\n",
      "589396    False\n",
      "4305      False\n",
      "Name: target, dtype: bool\n",
      "True     521\n",
      "False    479\n",
      "Name: target, dtype: int64\n",
      "\n",
      "\n",
      "ids object\n",
      "994881    1835624042\n",
      "338325    2014402707\n",
      "680040    2249391155\n",
      "589396    2216976769\n",
      "4305      1468788515\n",
      "Name: ids, dtype: object\n",
      "1835624042    1\n",
      "2192689939    1\n",
      "1990222167    1\n",
      "2216615427    1\n",
      "1694903121    1\n",
      "             ..\n",
      "2197186885    1\n",
      "1759224662    1\n",
      "2052026150    1\n",
      "2061176475    1\n",
      "2201955550    1\n",
      "Name: ids, Length: 1000, dtype: int64\n",
      "\n",
      "\n",
      "date object\n",
      "994881    Mon May 18 06:24:23 PDT 2009\n",
      "338325    Wed Jun 03 01:24:49 PDT 2009\n",
      "680040    Fri Jun 19 22:14:30 PDT 2009\n",
      "589396    Wed Jun 17 20:13:24 PDT 2009\n",
      "4305      Tue Apr 07 03:44:29 PDT 2009\n",
      "Name: date, dtype: object\n",
      "Mon May 18 06:24:23 PDT 2009    1\n",
      "Tue Jun 16 07:24:34 PDT 2009    1\n",
      "Mon Jun 01 04:15:08 PDT 2009    1\n",
      "Wed Jun 17 19:43:39 PDT 2009    1\n",
      "Mon May 04 04:32:57 PDT 2009    1\n",
      "                               ..\n",
      "Tue Jun 16 13:27:24 PDT 2009    1\n",
      "Sun May 10 18:44:32 PDT 2009    1\n",
      "Fri Jun 05 23:26:45 PDT 2009    1\n",
      "Sat Jun 06 20:20:00 PDT 2009    1\n",
      "Tue Jun 16 21:01:21 PDT 2009    1\n",
      "Name: date, Length: 1000, dtype: int64\n",
      "\n",
      "\n",
      "flag object\n",
      "994881    NO_QUERY\n",
      "338325    NO_QUERY\n",
      "680040    NO_QUERY\n",
      "589396    NO_QUERY\n",
      "4305      NO_QUERY\n",
      "Name: flag, dtype: object\n",
      "NO_QUERY    1000\n",
      "Name: flag, dtype: int64\n",
      "\n",
      "\n",
      "user object\n",
      "994881         frazallan\n",
      "338325            Cobote\n",
      "680040    VampireofSouls\n",
      "589396           ekrelly\n",
      "4305           goodwin88\n",
      "Name: user, dtype: object\n",
      "ShaneSakata       2\n",
      "jaydicee23        1\n",
      "beebalmdancer     1\n",
      "Evans87           1\n",
      "ihearttx3         1\n",
      "                 ..\n",
      "CharleneNoel      1\n",
      "jNam09            1\n",
      "MarioPadilla      1\n",
      "charlenevinzon    1\n",
      "plainlyphyra      1\n",
      "Name: user, Length: 999, dtype: int64\n",
      "\n",
      "\n",
      "text object\n",
      "994881    OMG my britney tickets have finally come  3 we...\n",
      "338325    @davidshoare Perhaps the Holby ambulance was o...\n",
      "680040                @unholyhole Aww.  Whats wrong sweety?\n",
      "589396    @KissaHasRSD yeah, I've been doing physio for ...\n",
      "4305                                        wants sum food \n",
      "Name: text, dtype: object\n",
      "OMG my britney tickets have finally come  3 weeks!                                                                                                          1\n",
      "Up since 5:30  I feel tired but got a lot to do b4 work today.                                                                                              1\n",
      "Pens are down 2-0  now we gotta win 2 at home! COMME ONN! Work was better yesterday, I'm still so tired....I didn't do any of my homework.                  1\n",
      "I'm not gonna be able to see my cousins tomorrow  This sucks...                                                                                             1\n",
      "how to get rid of your followers step 1: announce that you're unfollowing people who give you the shits... everyone assumes you mean THEM                   1\n",
      "                                                                                                                                                           ..\n",
      "Xbox live isn't working  I hate my life                                                                                                                     1\n",
      "@resrieju that's so weird! We were there around 2pm.....you HAD to have been there...........  Hope you enjoyed your food!                                  1\n",
      "Finally headed home. Really enjoyed the late night talk with Caitie, Jordan, Dakota &amp;&amp; Kim.  I love my girls. &amp;&amp; miss hanging with them.    1\n",
      "finally went shopping. spent $20; bought a top from papaya &amp; a bolero for grad. &amp; casual clothing. I wanted to buy fancy-looking sandals            1\n",
      "@simalves *furious. &gt;.&lt;' And he hopes to get a 19 record deal too                                                                                     1\n",
      "Name: text, Length: 1000, dtype: int64\n",
      "\n",
      "\n"
     ]
    }
   ],
   "source": [
    "for col in data.columns:\n",
    "    print(col, data[col].dtype)\n",
    "    print(data[col].head())\n",
    "    print(data[col].value_counts())\n",
    "    print('\\n')"
   ]
  },
  {
   "cell_type": "code",
   "execution_count": 7,
   "metadata": {},
   "outputs": [
    {
     "name": "stdout",
     "output_type": "stream",
     "text": [
      "179 stopwords in the original list\n",
      "137 stopwords after removing the negative words\n"
     ]
    },
    {
     "name": "stderr",
     "output_type": "stream",
     "text": [
      "[nltk_data] Downloading package stopwords to\n",
      "[nltk_data]     C:\\Users\\barau\\AppData\\Roaming\\nltk_data...\n",
      "[nltk_data]   Package stopwords is already up-to-date!\n",
      "[nltk_data] Downloading package wordnet to\n",
      "[nltk_data]     C:\\Users\\barau\\AppData\\Roaming\\nltk_data...\n",
      "[nltk_data]   Package wordnet is already up-to-date!\n",
      "[nltk_data] Downloading package omw-1.4 to\n",
      "[nltk_data]     C:\\Users\\barau\\AppData\\Roaming\\nltk_data...\n",
      "[nltk_data]   Package omw-1.4 is already up-to-date!\n"
     ]
    }
   ],
   "source": [
    "import nltk\n",
    "nltk.download('stopwords')\n",
    "nltk.download('wordnet')\n",
    "nltk.download('omw-1.4')\n",
    "\n",
    "from nltk.corpus import stopwords\n",
    "stopwords = stopwords.words('english')\n",
    "print(f\"{len(stopwords)} stopwords in the original list\")\n",
    "[stopwords.remove(negative_word) for negative_word in ['t', 'against', 'no', 'nor', 'not', 'don', \"don't\", 'ain', 'aren', \"aren't\", 'couldn', \"couldn't\", 'didn', \"didn't\", 'doesn', \"doesn't\", 'hadn', \"hadn't\", 'hasn', \"hasn't\", 'haven', \"haven't\", 'isn', \"isn't\", 'mightn', \"mightn't\", 'mustn', \"mustn't\", 'needn', \"needn't\", 'shan', \"shan't\", 'shouldn', \"shouldn't\", 'wasn', \"wasn't\", 'weren', \"weren't\", 'won', \"won't\", 'wouldn', \"wouldn't\"]]\n",
    "print(f\"{len(stopwords)} stopwords after removing the negative words\")"
   ]
  },
  {
   "cell_type": "code",
   "execution_count": 8,
   "metadata": {},
   "outputs": [],
   "source": [
    "from nltk.stem import WordNetLemmatizer\n",
    "import tensorflow as tf\n",
    "import re\n",
    "\n",
    "# We should later implement the same preprocessing process [here](https://nlp.stanford.edu/projects/glove/preprocess-twitter.rb)\n",
    "\n",
    "def preprocess(textdata):\n",
    "    processedText = []\n",
    "    \n",
    "    # Create Lemmatizer and Stemmer.\n",
    "    wordLemm = WordNetLemmatizer()\n",
    "    \n",
    "    # Defining regex patterns.\n",
    "    urlPattern        = r\"((http://)[^ ]*|(https://)[^ ]*|( www\\.)[^ ]*)\"\n",
    "    userPattern       = '@[^\\s]+'\n",
    "    alphaPattern      = \"[^a-zA-Z0-9]\"\n",
    "    sequencePattern   = r\"(.)\\1\\1+\"\n",
    "    seqReplacePattern = r\"\\1\\1\"\n",
    "    \n",
    "    for tweet in textdata:\n",
    "        tweet = tweet.lower()\n",
    "        \n",
    "        # Replace all URls with 'URL'\n",
    "        tweet = re.sub(urlPattern,' URL',tweet)    \n",
    "        # Replace @USERNAME to 'USER'.\n",
    "        tweet = re.sub(userPattern,' USER', tweet)        \n",
    "        # Replace all non alphabets.\n",
    "        tweet = re.sub(alphaPattern, \" \", tweet)\n",
    "        # Replace 3 or more consecutive letters by 2 letter.\n",
    "        tweet = re.sub(sequencePattern, seqReplacePattern, tweet)\n",
    "\n",
    "        tweetwords = ''\n",
    "        for word in tweet.split():\n",
    "            #if word not in stopwordlist:\n",
    "            if word not in stopwords:\n",
    "                # Lemmatizing the word.\n",
    "                word = wordLemm.lemmatize(word)\n",
    "                tweetwords += (word+' ')\n",
    "                \n",
    "        processedText.append(tweetwords)        \n",
    "    return processedText"
   ]
  },
  {
   "cell_type": "code",
   "execution_count": 9,
   "metadata": {},
   "outputs": [
    {
     "name": "stdout",
     "output_type": "stream",
     "text": [
      "Preprocessing took 1.2557365894317627 seconds\n"
     ]
    }
   ],
   "source": [
    "import time\n",
    "\n",
    "corpus = data['text']\n",
    "t = time.time()\n",
    "X = preprocess(corpus)\n",
    "print(f\"Preprocessing took {time.time()-t} seconds\")"
   ]
  },
  {
   "cell_type": "code",
   "execution_count": 10,
   "metadata": {},
   "outputs": [],
   "source": [
    "from sklearn.model_selection import train_test_split\n",
    "\n",
    "Y = data['target']\n",
    "\n",
    "X_train, X_test, Y_train, Y_test = train_test_split(X, Y, test_size=0.2, random_state=42)"
   ]
  },
  {
   "cell_type": "markdown",
   "metadata": {},
   "source": [
    "Now that the tweets are cleaned, we will create a dictionnary where every key is a number and value is a word and replace every word by its number in the tweets.\n",
    "Then, we will padd these tweets in order to have a uniform length."
   ]
  },
  {
   "cell_type": "code",
   "execution_count": 11,
   "metadata": {},
   "outputs": [
    {
     "name": "stdout",
     "output_type": "stream",
     "text": [
      "Building the tokenizer\n",
      "Vocabulary Size : 2839\n"
     ]
    }
   ],
   "source": [
    "import pickle\n",
    "\n",
    "tokenizer_folder = 'tokenizer'\n",
    "tokenizer_name = f\"tokenizer-{sample_size}.pickle\"\n",
    "tokenizer_path = f\"{tokenizer_folder}/{tokenizer_name}\"\n",
    "\n",
    "loading_tokenizer = False\n",
    "\n",
    "# if os.path.exists(tokenizer_folder):\n",
    "#     if os.path.exists(tokenizer_path):\n",
    "#         loading_tokenizer = True\n",
    "\n",
    "if loading_tokenizer:\n",
    "        print(\"Loading tokenizer...\")\n",
    "        # Loading the model\n",
    "        with open(tokenizer_path, 'rb') as handle:\n",
    "            tokenizer = pickle.load(handle)\n",
    "\n",
    "else:\n",
    "    print(\"Building the tokenizer\")\n",
    "    tokenizer = tf.keras.preprocessing.text.Tokenizer()\n",
    "    tokenizer.fit_on_texts(X)\n",
    "    if not os.path.exists(tokenizer_folder):\n",
    "        os.makedirs(tokenizer_folder)\n",
    "    # with open(tokenizer_path, 'wb') as handle:\n",
    "    #     pickle.dump(tokenizer, handle)\n",
    "\n",
    "\n",
    "word_index = tokenizer.word_index\n",
    "vocab_size = len(tokenizer.word_index) + 1\n",
    "print(\"Vocabulary Size :\", vocab_size)"
   ]
  },
  {
   "cell_type": "code",
   "execution_count": 12,
   "metadata": {},
   "outputs": [
    {
     "name": "stdout",
     "output_type": "stream",
     "text": [
      "Training X Shape: (800, 180)\n",
      "Testing X Shape: (200, 180)\n"
     ]
    }
   ],
   "source": [
    "MAX_SEQUENCE_LENGTH = 180\n",
    "\n",
    "X_train = tf.keras.preprocessing.sequence.pad_sequences(tokenizer.texts_to_sequences(X_train), maxlen = MAX_SEQUENCE_LENGTH) # Adding some space to match the lenght of every tweets\n",
    "X_test = tf.keras.preprocessing.sequence.pad_sequences(tokenizer.texts_to_sequences(X_test), maxlen = MAX_SEQUENCE_LENGTH)\n",
    "\n",
    "print(\"Training X Shape:\",X_train.shape)\n",
    "print(\"Testing X Shape:\",X_test.shape)"
   ]
  },
  {
   "cell_type": "code",
   "execution_count": 13,
   "metadata": {},
   "outputs": [
    {
     "name": "stdout",
     "output_type": "stream",
     "text": [
      "Most similar to 'twitter': [('facebook', 0.948005199432373), ('tweet', 0.9403423070907593), ('fb', 0.9342358708381653), ('instagram', 0.9104824066162109), ('chat', 0.8964964747428894), ('hashtag', 0.8885937333106995), ('tweets', 0.8878158330917358), ('tl', 0.8778461217880249), ('link', 0.8778210878372192), ('internet', 0.8753897547721863)]\n"
     ]
    }
   ],
   "source": [
    "from sklearn.model_selection import train_test_split\n",
    "import time\n",
    "# Word2vec\n",
    "import gensim.downloader\n",
    "\n",
    "# we could train the model but in order to save time, we will load a model already trained on 2B tweets ([see here](https://github.com/RaRe-Technologies/gensim-data))\n",
    "glove_vectors = gensim.downloader.load('glove-twitter-25') # Already 104MB\n",
    "VECTORS_DIM = 25 # because twitter-25\n",
    "\n",
    "glove_vectors.most_similar('twitter')\n",
    "\n",
    "print(f\"Most similar to 'twitter': {glove_vectors.most_similar('twitter')}\")"
   ]
  },
  {
   "cell_type": "markdown",
   "metadata": {},
   "source": [
    "On créé une liste de mots de notre tokenizer et on va y associer les vecteurs qu'on a trouvé dans le modèle qu'on vient de charger. La couche Embedding servira donc juste à associer les mots (leurs numéros) à leur vecteurs."
   ]
  },
  {
   "cell_type": "code",
   "execution_count": 14,
   "metadata": {},
   "outputs": [],
   "source": [
    "import numpy as np\n",
    "\n",
    "# convert the wv word vectors into a numpy matrix that is suitable for insertion into our TensorFlow and Keras models\n",
    "embedding_matrix = np.zeros((vocab_size, VECTORS_DIM))\n",
    "for word, i in word_index.items():\n",
    "    if glove_vectors.has_index_for(word):\n",
    "        embedding_matrix[i] = glove_vectors.get_vector(word)"
   ]
  },
  {
   "cell_type": "code",
   "execution_count": 15,
   "metadata": {},
   "outputs": [],
   "source": [
    "embedding_layer = tf.keras.layers.Embedding(input_dim=vocab_size, output_dim=VECTORS_DIM, weights=[embedding_matrix], input_length=MAX_SEQUENCE_LENGTH, trainable=False)"
   ]
  },
  {
   "cell_type": "code",
   "execution_count": 16,
   "metadata": {},
   "outputs": [
    {
     "name": "stdout",
     "output_type": "stream",
     "text": [
      "Loading model...\n"
     ]
    }
   ],
   "source": [
    "from tensorflow.keras.layers import Conv1D, Bidirectional, LSTM, Dense, Input, Dropout\n",
    "from tensorflow.keras.layers import SpatialDropout1D\n",
    "from tensorflow.keras.callbacks import ModelCheckpoint\n",
    "from tensorflow.keras.optimizers import Adam\n",
    "from tensorflow.keras.callbacks import ReduceLROnPlateau\n",
    "import matplotlib.pyplot as plt\n",
    "\n",
    "model_folder = \"model\"\n",
    "tf_model_name = f\"model-{sample_size}.h5\"\n",
    "tf_model_path = os.path.join(model_folder, tf_model_name)\n",
    "pck_model_name = f\"model-{sample_size}.pickle\"\n",
    "pck_model_path = os.path.join(model_folder, pck_model_name)\n",
    "\n",
    "loading_model = False\n",
    "\n",
    "if os.path.exists(model_folder):\n",
    "    if os.path.exists(tf_model_path):\n",
    "        loading_model = True\n",
    "\n",
    "if loading_model:\n",
    "        print(\"Loading model...\")\n",
    "        model = tf.keras.models.load_model(tf_model_path)\n",
    "else:\n",
    "    print(\"Building the model\")\n",
    "\n",
    "    # Creating the model\n",
    "    sequence_input = Input(shape=(MAX_SEQUENCE_LENGTH,), dtype='int32')\n",
    "    embedding_sequences = embedding_layer(sequence_input)\n",
    "    x = SpatialDropout1D(0.2)(embedding_sequences)\n",
    "    x = Conv1D(64, 5, activation='relu')(x)\n",
    "    x = Bidirectional(LSTM(64, dropout=0.2, recurrent_dropout=0.2))(x)\n",
    "    x = Dense(512, activation='relu')(x)\n",
    "    x = Dropout(0.5)(x)\n",
    "    x = Dense(512, activation='relu')(x)\n",
    "    outputs = Dense(1, activation='sigmoid')(x)\n",
    "    model = tf.keras.Model(sequence_input, outputs)\n",
    "\n",
    "    # Compiling\n",
    "    model.compile(optimizer=Adam(learning_rate=1e-3), loss='binary_crossentropy', metrics=['accuracy'])\n",
    "    ReduceLROnPlateau = ReduceLROnPlateau(factor=0.1, min_lr = 0.01, monitor = 'val_loss', verbose = 1)\n",
    "\n",
    "    #Fitting\n",
    "    history = model.fit(X_train, Y_train, batch_size = 1024, epochs=10, validation_data=(X_test, Y_test), callbacks=[ReduceLROnPlateau])\n",
    "    \n",
    "\n",
    "\n",
    "    # save model\n",
    "    if not os.path.exists(model_folder):\n",
    "        os.makedirs(model_folder)\n",
    "    model.save(tf_model_path)\n",
    "    # save with pickle\n",
    "    with open(f\"{pck_model_path}\", 'wb') as handle:\n",
    "        pickle.dump(model, handle)\n",
    "\n",
    "    # Plotting the training and validation loss\n",
    "    plt.plot(history.history['loss'])\n",
    "    plt.plot(history.history['val_loss'])\n",
    "    plt.title('Model loss')\n",
    "    plt.ylabel('Loss')\n",
    "    plt.xlabel('Epoch')\n",
    "    plt.legend(['Train', 'Test'], loc='upper left')\n",
    "    plt.gcf().set_facecolor('white')\n",
    "    plt.show()\n"
   ]
  },
  {
   "cell_type": "code",
   "execution_count": null,
   "metadata": {},
   "outputs": [],
   "source": [
    "import matplotlib.pyplot as plt\n",
    "from sklearn.metrics import roc_curve, RocCurveDisplay, DetCurveDisplay, ConfusionMatrixDisplay\n",
    "\n",
    "\n",
    "\n",
    "def evaluate_roc_det(Y_test, Y_pred):\n",
    "    # two subplots\n",
    "    fig, axs = plt.subplots(1, 2, figsize=(15, 5))\n",
    "    ax_roc = axs[0]\n",
    "    ax_det = axs[1]\n",
    "\n",
    "    ax_roc.set_title(\"Receiver Operating Characteristic (ROC) curves\")\n",
    "    ax_det.set_title(\"Detection Error Tradeoff (DET) curves\")\n",
    "\n",
    "    DetCurveDisplay.from_predictions(Y_test, Y_pred, ax=ax_det)\n",
    "    RocCurveDisplay.from_predictions(Y_test, Y_pred, ax=ax_roc)\n",
    "    plt.gcf().set_facecolor('white')\n",
    "    plt.show()\n",
    "    \n",
    "\n",
    "def evaluate_confusion_matrix(Y_test, Y_pred, threshold, ax = None):\n",
    "    binary_pred = np.where(Y_pred > threshold, 1, 0)\n",
    "    ConfusionMatrixDisplay.from_predictions(Y_test, binary_pred, ax=ax)"
   ]
  },
  {
   "cell_type": "code",
   "execution_count": null,
   "metadata": {},
   "outputs": [
    {
     "name": "stdout",
     "output_type": "stream",
     "text": [
      "7/7 [==============================] - 0s 18ms/step\n"
     ]
    },
    {
     "data": {
      "image/png": "[encoded data removed]",
      "text/plain": [
       "<Figure size 1080x360 with 2 Axes>"
      ]
     },
     "metadata": {},
     "output_type": "display_data"
    },
    {
     "data": {
      "image/png": "[encoded data removed]",
      "text/plain": [
       "<Figure size 2160x432 with 10 Axes>"
      ]
     },
     "metadata": {},
     "output_type": "display_data"
    }
   ],
   "source": [
    "Y_pred = model.predict(X_test)\n",
    "\n",
    "evaluate_roc_det(Y_test, Y_pred)\n",
    "\n",
    "possible_thresholds = np.linspace(0.1, 0.9, 5)\n",
    "fig, axs = plt.subplots(1, len(possible_thresholds), figsize=(6*len(possible_thresholds), 6))\n",
    "fig.suptitle(\"Confusion matrix for different thresholds\")\n",
    "\n",
    "for threshold, ax in zip(possible_thresholds, axs.ravel()):\n",
    "    evaluate_confusion_matrix(Y_test, Y_pred, threshold, ax = ax)\n",
    "    ax.set_title(f\"Confusion matrix with threshold {round(threshold, 1)}\")\n",
    "plt.gcf().set_facecolor('white')\n",
    "plt.show()"
   ]
  }
 ],
 "metadata": {
  "kernelspec": {
   "display_name": "Python 3.9.13 ('advancedEnv': venv)",
   "language": "python",
   "name": "python3"
  },
  "language_info": {
   "codemirror_mode": {
    "name": "ipython",
    "version": 3
   },
   "file_extension": ".py",
   "mimetype": "text/x-python",
   "name": "python",
   "nbconvert_exporter": "python",
   "pygments_lexer": "ipython3",
   "version": "3.9.13"
  },
  "vscode": {
   "interpreter": {
    "hash": "1cbe5b5b65742a24732c4f54e6de724bbdffe44b3b04c5a916a8fca4109707fd"
   }
  }
 },
 "nbformat": 4,
 "nbformat_minor": 4
}
