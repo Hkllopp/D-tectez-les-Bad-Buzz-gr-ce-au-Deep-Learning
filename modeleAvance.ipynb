{
 "cells": [
  {
   "cell_type": "code",
   "execution_count": 12,
   "metadata": {},
   "outputs": [
    {
     "name": "stdout",
     "output_type": "stream",
     "text": [
      "Num GPUs Available:  0\n",
      "Num CPUs Available:  1\n"
     ]
    }
   ],
   "source": [
    "import tensorflow as tf\n",
    "print(\"Num GPUs Available: \", len(tf.config.list_physical_devices('GPU')))\n",
    "print(\"Num CPUs Available: \", len(tf.config.list_physical_devices('CPU')))"
   ]
  },
  {
   "cell_type": "markdown",
   "metadata": {},
   "source": [
    "## Modele Avance"
   ]
  },
  {
   "cell_type": "markdown",
   "metadata": {},
   "source": [
    "A la différence du notebook précédent, ici les deux étapes servant à faire la prédiction vont être remplacée :\n",
    "- La traduction du mot en vecteur (word embedding) ne sera plus assurée par un CountVectorizer (qui ne faisait que compter les mots dans la phrase) mais par un modèle déjà entrainé qui place chaque mot comme un point dans un espace de grande dimension (word2vec ou GloVe)\n",
    "- L'étape de prédiction, qui était faite avec une régression logistique sera assurée par un réseau de neurone mis en bout de chaine du modèle de word embedding."
   ]
  },
  {
   "cell_type": "markdown",
   "metadata": {},
   "source": [
    "## Context\n",
    "This is the sentiment140 dataset. It contains 1,600,000 tweets extracted using the twitter api . The tweets have been annotated (0 = negative, 4 = positive) and they can be used to detect sentiment ."
   ]
  },
  {
   "cell_type": "code",
   "execution_count": 13,
   "metadata": {},
   "outputs": [
    {
     "data": {
      "text/html": [
       "<div>\n",
       "<style scoped>\n",
       "    .dataframe tbody tr th:only-of-type {\n",
       "        vertical-align: middle;\n",
       "    }\n",
       "\n",
       "    .dataframe tbody tr th {\n",
       "        vertical-align: top;\n",
       "    }\n",
       "\n",
       "    .dataframe thead th {\n",
       "        text-align: right;\n",
       "    }\n",
       "</style>\n",
       "<table border=\"1\" class=\"dataframe\">\n",
       "  <thead>\n",
       "    <tr style=\"text-align: right;\">\n",
       "      <th></th>\n",
       "      <th>target</th>\n",
       "      <th>ids</th>\n",
       "      <th>date</th>\n",
       "      <th>flag</th>\n",
       "      <th>user</th>\n",
       "      <th>text</th>\n",
       "    </tr>\n",
       "  </thead>\n",
       "  <tbody>\n",
       "    <tr>\n",
       "      <th>0</th>\n",
       "      <td>0</td>\n",
       "      <td>1467810369</td>\n",
       "      <td>Mon Apr 06 22:19:45 PDT 2009</td>\n",
       "      <td>NO_QUERY</td>\n",
       "      <td>_TheSpecialOne_</td>\n",
       "      <td>@switchfoot http://twitpic.com/2y1zl - Awww, t...</td>\n",
       "    </tr>\n",
       "    <tr>\n",
       "      <th>1</th>\n",
       "      <td>0</td>\n",
       "      <td>1467810672</td>\n",
       "      <td>Mon Apr 06 22:19:49 PDT 2009</td>\n",
       "      <td>NO_QUERY</td>\n",
       "      <td>scotthamilton</td>\n",
       "      <td>is upset that he can't update his Facebook by ...</td>\n",
       "    </tr>\n",
       "    <tr>\n",
       "      <th>2</th>\n",
       "      <td>0</td>\n",
       "      <td>1467810917</td>\n",
       "      <td>Mon Apr 06 22:19:53 PDT 2009</td>\n",
       "      <td>NO_QUERY</td>\n",
       "      <td>mattycus</td>\n",
       "      <td>@Kenichan I dived many times for the ball. Man...</td>\n",
       "    </tr>\n",
       "    <tr>\n",
       "      <th>3</th>\n",
       "      <td>0</td>\n",
       "      <td>1467811184</td>\n",
       "      <td>Mon Apr 06 22:19:57 PDT 2009</td>\n",
       "      <td>NO_QUERY</td>\n",
       "      <td>ElleCTF</td>\n",
       "      <td>my whole body feels itchy and like its on fire</td>\n",
       "    </tr>\n",
       "    <tr>\n",
       "      <th>4</th>\n",
       "      <td>0</td>\n",
       "      <td>1467811193</td>\n",
       "      <td>Mon Apr 06 22:19:57 PDT 2009</td>\n",
       "      <td>NO_QUERY</td>\n",
       "      <td>Karoli</td>\n",
       "      <td>@nationwideclass no, it's not behaving at all....</td>\n",
       "    </tr>\n",
       "  </tbody>\n",
       "</table>\n",
       "</div>"
      ],
      "text/plain": [
       "   target         ids                          date      flag  \\\n",
       "0       0  1467810369  Mon Apr 06 22:19:45 PDT 2009  NO_QUERY   \n",
       "1       0  1467810672  Mon Apr 06 22:19:49 PDT 2009  NO_QUERY   \n",
       "2       0  1467810917  Mon Apr 06 22:19:53 PDT 2009  NO_QUERY   \n",
       "3       0  1467811184  Mon Apr 06 22:19:57 PDT 2009  NO_QUERY   \n",
       "4       0  1467811193  Mon Apr 06 22:19:57 PDT 2009  NO_QUERY   \n",
       "\n",
       "              user                                               text  \n",
       "0  _TheSpecialOne_  @switchfoot http://twitpic.com/2y1zl - Awww, t...  \n",
       "1    scotthamilton  is upset that he can't update his Facebook by ...  \n",
       "2         mattycus  @Kenichan I dived many times for the ball. Man...  \n",
       "3          ElleCTF    my whole body feels itchy and like its on fire   \n",
       "4           Karoli  @nationwideclass no, it's not behaving at all....  "
      ]
     },
     "execution_count": 13,
     "metadata": {},
     "output_type": "execute_result"
    }
   ],
   "source": [
    "import pandas as pd\n",
    "\n",
    "# import csv\n",
    "raw_data = pd.read_csv('data/training.1600000.processed.noemoticon.csv', encoding='latin-1', names=['target', 'ids', 'date', 'flag', 'user', 'text'])\n",
    "raw_data.head()"
   ]
  },
  {
   "cell_type": "markdown",
   "metadata": {},
   "source": [
    "## Content\n",
    "It contains the following 6 fields:\n",
    "1. target: the polarity of the tweet (0 = negative, 2 = neutral, 4 = positive)\n",
    "2. ids: The id of the tweet\n",
    "3. date: the date of the tweet\n",
    "4. flag: The query. If there is no query, then this value is NO_QUERY.\n",
    "5. user: the user that tweeted\n",
    "6. text: the text of the tweet"
   ]
  },
  {
   "cell_type": "code",
   "execution_count": 14,
   "metadata": {},
   "outputs": [],
   "source": [
    "sample_size = 1000 # Number of tweets to use for this notebook\n",
    "\n",
    "data = raw_data.sample(sample_size).copy(deep=True)\n",
    "data['target'] = data['target'].map(lambda x: 1 if x == 4 else 0).astype('bool')\n",
    "data['ids'] = data['ids'].astype('str')\n",
    "data['date'] = data['date'].astype('str') # We will convert them to date if useful later, now we just want to reduce the size of the dataframe\n",
    "data['flag'] = data['flag'].astype('str')\n",
    "data['user'] = data['user'].astype('str')\n",
    "data['text'] = data['text'].astype('str')"
   ]
  },
  {
   "cell_type": "code",
   "execution_count": 15,
   "metadata": {},
   "outputs": [
    {
     "name": "stdout",
     "output_type": "stream",
     "text": [
      "target bool\n",
      "820492      True\n",
      "139075     False\n",
      "22323      False\n",
      "132227     False\n",
      "1270423     True\n",
      "Name: target, dtype: bool\n",
      "True     503\n",
      "False    497\n",
      "Name: target, dtype: int64\n",
      "\n",
      "\n",
      "ids object\n",
      "820492     1553740517\n",
      "139075     1880715908\n",
      "22323      1557461467\n",
      "132227     1835705386\n",
      "1270423    2000397819\n",
      "Name: ids, dtype: object\n",
      "1553740517    1\n",
      "1835949567    1\n",
      "1834182938    1\n",
      "1966106185    1\n",
      "1694677522    1\n",
      "             ..\n",
      "2003612938    1\n",
      "2197999594    1\n",
      "1824448835    1\n",
      "2061541004    1\n",
      "2176207642    1\n",
      "Name: ids, Length: 1000, dtype: int64\n",
      "\n",
      "\n",
      "date object\n",
      "820492     Sat Apr 18 15:05:01 PDT 2009\n",
      "139075     Fri May 22 02:14:31 PDT 2009\n",
      "22323      Sun Apr 19 04:15:29 PDT 2009\n",
      "132227     Mon May 18 06:34:46 PDT 2009\n",
      "1270423    Mon Jun 01 22:01:42 PDT 2009\n",
      "Name: date, dtype: object\n",
      "Sat Apr 18 15:05:01 PDT 2009    1\n",
      "Mon May 18 07:04:38 PDT 2009    1\n",
      "Mon May 18 01:57:03 PDT 2009    1\n",
      "Fri May 29 17:08:08 PDT 2009    1\n",
      "Mon May 04 03:40:48 PDT 2009    1\n",
      "                               ..\n",
      "Tue Jun 02 06:50:53 PDT 2009    1\n",
      "Tue Jun 16 15:28:37 PDT 2009    1\n",
      "Sun May 17 01:25:48 PDT 2009    1\n",
      "Sat Jun 06 21:05:04 PDT 2009    1\n",
      "Mon Jun 15 03:13:30 PDT 2009    1\n",
      "Name: date, Length: 1000, dtype: int64\n",
      "\n",
      "\n",
      "flag object\n",
      "820492     NO_QUERY\n",
      "139075     NO_QUERY\n",
      "22323      NO_QUERY\n",
      "132227     NO_QUERY\n",
      "1270423    NO_QUERY\n",
      "Name: flag, dtype: object\n",
      "NO_QUERY    1000\n",
      "Name: flag, dtype: int64\n",
      "\n",
      "\n",
      "user object\n",
      "820492     MusicMonkey3\n",
      "139075           ndajoe\n",
      "22323            Sweena\n",
      "132227         rnreiley\n",
      "1270423       breanne19\n",
      "Name: user, dtype: object\n",
      "rose_janice        2\n",
      "fryfan20           2\n",
      "_magic8ball        2\n",
      "NKOTBFanForLife    2\n",
      "chrisgarrett       2\n",
      "                  ..\n",
      "nowaynicole        1\n",
      "15Stepz            1\n",
      "MelyJelly          1\n",
      "chefrosebud        1\n",
      "skdev              1\n",
      "Name: user, Length: 993, dtype: int64\n",
      "\n",
      "\n",
      "text object\n",
      "820492     I moved my laptop from my bed to my desk. so m...\n",
      "139075                      traffic jam in buahbatu bandung \n",
      "22323      @rasga I burnt my fingers too, unfortunately. ...\n",
      "132227     I'm about to set out on the 9 hour drive back ...\n",
      "1270423    @pcfhjeff I just downloaded your EP and I real...\n",
      "Name: text, dtype: object\n",
      "I moved my laptop from my bed to my desk. so mch better                                                                                     1\n",
      "Seasons in the Sun - what an utterly rubbish song that is...                                                                                1\n",
      "@madilovesmerder just listened to &quot;that home&quot; i LOVE it and i remember it from that scene! awesome song, love it                  1\n",
      "@Impala_Guy Just like me )))) No i must confess one dark side of me is that i can be sometimes stubborn + iï¿½m a little morning grouch     1\n",
      "@JohnnyOthers We were in Brighton yesterday and yeah that market was poor. Bumbed into jimmy and catherine but not you                      1\n",
      "                                                                                                                                           ..\n",
      "Awake on my day off. No car  I don't know what I'm going to do yet                                                                          1\n",
      "So my family is leaving for france tomorrow.... without me                                                                                  1\n",
      "http://twitpic.com/5cnn4 - Cold winter morning                                                                                              1\n",
      "New Juicy Couture purse for me!  javi says there is more surprises to come! I love bdays LOL                                                1\n",
      "@Waisybabu I am glad one of us got it.                                                                                                      1\n",
      "Name: text, Length: 1000, dtype: int64\n",
      "\n",
      "\n"
     ]
    }
   ],
   "source": [
    "for col in data.columns:\n",
    "    print(col, data[col].dtype)\n",
    "    print(data[col].head())\n",
    "    print(data[col].value_counts())\n",
    "    print('\\n')"
   ]
  },
  {
   "cell_type": "code",
   "execution_count": 16,
   "metadata": {},
   "outputs": [
    {
     "name": "stdout",
     "output_type": "stream",
     "text": [
      "179 stopwords in the original list\n",
      "137 stopwords after removing the negative words\n"
     ]
    },
    {
     "name": "stderr",
     "output_type": "stream",
     "text": [
      "[nltk_data] Downloading package stopwords to\n",
      "[nltk_data]     C:\\Users\\barau\\AppData\\Roaming\\nltk_data...\n",
      "[nltk_data]   Package stopwords is already up-to-date!\n",
      "[nltk_data] Downloading package wordnet to\n",
      "[nltk_data]     C:\\Users\\barau\\AppData\\Roaming\\nltk_data...\n",
      "[nltk_data]   Package wordnet is already up-to-date!\n",
      "[nltk_data] Downloading package omw-1.4 to\n",
      "[nltk_data]     C:\\Users\\barau\\AppData\\Roaming\\nltk_data...\n",
      "[nltk_data]   Package omw-1.4 is already up-to-date!\n"
     ]
    }
   ],
   "source": [
    "import nltk\n",
    "nltk.download('stopwords')\n",
    "nltk.download('wordnet')\n",
    "nltk.download('omw-1.4')\n",
    "\n",
    "from nltk.corpus import stopwords\n",
    "stopwords = stopwords.words('english')\n",
    "print(f\"{len(stopwords)} stopwords in the original list\")\n",
    "[stopwords.remove(negative_word) for negative_word in ['t', 'against', 'no', 'nor', 'not', 'don', \"don't\", 'ain', 'aren', \"aren't\", 'couldn', \"couldn't\", 'didn', \"didn't\", 'doesn', \"doesn't\", 'hadn', \"hadn't\", 'hasn', \"hasn't\", 'haven', \"haven't\", 'isn', \"isn't\", 'mightn', \"mightn't\", 'mustn', \"mustn't\", 'needn', \"needn't\", 'shan', \"shan't\", 'shouldn', \"shouldn't\", 'wasn', \"wasn't\", 'weren', \"weren't\", 'won', \"won't\", 'wouldn', \"wouldn't\"]]\n",
    "print(f\"{len(stopwords)} stopwords after removing the negative words\")"
   ]
  },
  {
   "cell_type": "code",
   "execution_count": 17,
   "metadata": {},
   "outputs": [],
   "source": [
    "from nltk.stem import WordNetLemmatizer\n",
    "import tensorflow as tf\n",
    "import re\n",
    "\n",
    "# We should later implement the same preprocessing process [here](https://nlp.stanford.edu/projects/glove/preprocess-twitter.rb)\n",
    "\n",
    "def preprocess(textdata):\n",
    "    processedText = []\n",
    "    \n",
    "    # Create Lemmatizer and Stemmer.\n",
    "    wordLemm = WordNetLemmatizer()\n",
    "    \n",
    "    # Defining regex patterns.\n",
    "    urlPattern        = r\"((http://)[^ ]*|(https://)[^ ]*|( www\\.)[^ ]*)\"\n",
    "    userPattern       = '@[^\\s]+'\n",
    "    alphaPattern      = \"[^a-zA-Z0-9]\"\n",
    "    sequencePattern   = r\"(.)\\1\\1+\"\n",
    "    seqReplacePattern = r\"\\1\\1\"\n",
    "    \n",
    "    for tweet in textdata:\n",
    "        tweet = tweet.lower()\n",
    "        \n",
    "        # Replace all URls with 'URL'\n",
    "        tweet = re.sub(urlPattern,' URL',tweet)    \n",
    "        # Replace @USERNAME to 'USER'.\n",
    "        tweet = re.sub(userPattern,' USER', tweet)        \n",
    "        # Replace all non alphabets.\n",
    "        tweet = re.sub(alphaPattern, \" \", tweet)\n",
    "        # Replace 3 or more consecutive letters by 2 letter.\n",
    "        tweet = re.sub(sequencePattern, seqReplacePattern, tweet)\n",
    "\n",
    "        tweetwords = ''\n",
    "        for word in tweet.split():\n",
    "            #if word not in stopwordlist:\n",
    "            if word not in stopwords:\n",
    "                # Lemmatizing the word.\n",
    "                word = wordLemm.lemmatize(word)\n",
    "                tweetwords += (word+' ')\n",
    "                \n",
    "        processedText.append(tweetwords)        \n",
    "    return processedText"
   ]
  },
  {
   "cell_type": "code",
   "execution_count": 18,
   "metadata": {},
   "outputs": [
    {
     "name": "stdout",
     "output_type": "stream",
     "text": [
      "Preprocessing took 0.04400062561035156 seconds\n"
     ]
    }
   ],
   "source": [
    "import time\n",
    "\n",
    "corpus = data['text']\n",
    "t = time.time()\n",
    "X = preprocess(corpus)\n",
    "print(f\"Preprocessing took {time.time()-t} seconds\")"
   ]
  },
  {
   "cell_type": "code",
   "execution_count": 19,
   "metadata": {},
   "outputs": [],
   "source": [
    "from sklearn.model_selection import train_test_split\n",
    "\n",
    "Y = data['target']\n",
    "\n",
    "X_train, X_test, Y_train, Y_test = train_test_split(X, Y, test_size=0.2, random_state=42)"
   ]
  },
  {
   "cell_type": "markdown",
   "metadata": {},
   "source": [
    "Now that the tweets are cleaned, we will create a dictionnary where every key is a number and value is a word and replace every word by its number in the tweets.\n",
    "Then, we will padd these tweets in order to have a uniform length."
   ]
  },
  {
   "cell_type": "code",
   "execution_count": 20,
   "metadata": {},
   "outputs": [
    {
     "name": "stdout",
     "output_type": "stream",
     "text": [
      "Building the tokenizer\n",
      "Vocabulary Size : 2827\n"
     ]
    }
   ],
   "source": [
    "import pickle\n",
    "\n",
    "tokenizer_folder = 'tokenizer'\n",
    "tokenizer_name = f\"tokenizer-{sample_size}.pickle\"\n",
    "tokenizer_path = f\"{tokenizer_folder}/{tokenizer_name}\"\n",
    "\n",
    "\n",
    "if os.path.exists(tokenizer_folder):\n",
    "    if os.path.exists(tokenizer_path):\n",
    "        print(\"Loading tokenizer...\")\n",
    "        \n",
    "        # Loading the model\n",
    "        with open(tokenizer_path, 'rb') as handle:\n",
    "            tokenizer = pickle.load(handle)\n",
    "\n",
    "else:\n",
    "    print(\"Building the tokenizer\")\n",
    "    tokenizer = tf.keras.preprocessing.text.Tokenizer()\n",
    "    tokenizer.fit_on_texts(X)\n",
    "    if not os.path.exists(tokenizer_folder):\n",
    "        os.makedirs(tokenizer_folder)\n",
    "    with open(tokenizer_path, 'wb') as handle:\n",
    "        pickle.dump(tokenizer, handle, protocol=pickle.HIGHEST_PROTOCOL)\n",
    "\n",
    "\n",
    "word_index = tokenizer.word_index\n",
    "vocab_size = len(tokenizer.word_index) + 1\n",
    "print(\"Vocabulary Size :\", vocab_size)"
   ]
  },
  {
   "cell_type": "code",
   "execution_count": 21,
   "metadata": {},
   "outputs": [
    {
     "name": "stdout",
     "output_type": "stream",
     "text": [
      "Training X Shape: (800, 180)\n",
      "Testing X Shape: (200, 180)\n"
     ]
    }
   ],
   "source": [
    "MAX_SEQUENCE_LENGTH = 180\n",
    "\n",
    "X_train = tf.keras.preprocessing.sequence.pad_sequences(tokenizer.texts_to_sequences(X_train), maxlen = MAX_SEQUENCE_LENGTH) # Adding some space to match the lenght of every tweets\n",
    "X_test = tf.keras.preprocessing.sequence.pad_sequences(tokenizer.texts_to_sequences(X_test), maxlen = MAX_SEQUENCE_LENGTH)\n",
    "\n",
    "print(\"Training X Shape:\",X_train.shape)\n",
    "print(\"Testing X Shape:\",X_test.shape)"
   ]
  },
  {
   "cell_type": "code",
   "execution_count": 22,
   "metadata": {},
   "outputs": [
    {
     "name": "stdout",
     "output_type": "stream",
     "text": [
      "Most similar to 'twitter': [('facebook', 0.948005199432373), ('tweet', 0.9403423070907593), ('fb', 0.9342358708381653), ('instagram', 0.9104824066162109), ('chat', 0.8964964747428894), ('hashtag', 0.8885937333106995), ('tweets', 0.8878158330917358), ('tl', 0.8778461217880249), ('link', 0.8778210878372192), ('internet', 0.8753897547721863)]\n"
     ]
    }
   ],
   "source": [
    "from sklearn.model_selection import train_test_split\n",
    "import time\n",
    "# Word2vec\n",
    "import gensim.downloader\n",
    "\n",
    "# we could train the model but in order to save time, we will load a model already trained on 2B tweets ([see here](https://github.com/RaRe-Technologies/gensim-data))\n",
    "glove_vectors = gensim.downloader.load('glove-twitter-25') # Already 104MB\n",
    "VECTORS_DIM = 25 # because twitter-25\n",
    "\n",
    "glove_vectors.most_similar('twitter')\n",
    "\n",
    "print(f\"Most similar to 'twitter': {glove_vectors.most_similar('twitter')}\")"
   ]
  },
  {
   "cell_type": "markdown",
   "metadata": {},
   "source": [
    "On créé une liste de mots de notre tokenizer et on va y associer les vecteurs qu'on a trouvé dans le modèle qu'on vient de charger. La couche Embedding servira donc juste à associer les mots (leurs numéros) à leur vecteurs."
   ]
  },
  {
   "cell_type": "code",
   "execution_count": 23,
   "metadata": {},
   "outputs": [],
   "source": [
    "import numpy as np\n",
    "\n",
    "# convert the wv word vectors into a numpy matrix that is suitable for insertion into our TensorFlow and Keras models\n",
    "embedding_matrix = np.zeros((vocab_size, VECTORS_DIM))\n",
    "for word, i in word_index.items():\n",
    "    if glove_vectors.has_index_for(word):\n",
    "        embedding_matrix[i] = glove_vectors.get_vector(word)"
   ]
  },
  {
   "cell_type": "code",
   "execution_count": 24,
   "metadata": {},
   "outputs": [],
   "source": [
    "embedding_layer = tf.keras.layers.Embedding(input_dim=vocab_size, output_dim=VECTORS_DIM, weights=[embedding_matrix], input_length=MAX_SEQUENCE_LENGTH, trainable=False)"
   ]
  },
  {
   "cell_type": "code",
   "execution_count": 25,
   "metadata": {},
   "outputs": [
    {
     "name": "stdout",
     "output_type": "stream",
     "text": [
      "Building the model\n",
      "Epoch 1/10\n",
      "1/1 [==============================] - 9s 9s/step - loss: 0.6938 - accuracy: 0.5050 - val_loss: 0.6886 - val_accuracy: 0.5900 - lr: 0.0010\n",
      "Epoch 2/10\n",
      "1/1 [==============================] - 4s 4s/step - loss: 0.6895 - accuracy: 0.5675 - val_loss: 0.6852 - val_accuracy: 0.5750 - lr: 0.0010\n",
      "Epoch 3/10\n",
      "1/1 [==============================] - 4s 4s/step - loss: 0.6833 - accuracy: 0.6000 - val_loss: 0.6787 - val_accuracy: 0.6150 - lr: 0.0010\n",
      "Epoch 4/10\n",
      "1/1 [==============================] - 4s 4s/step - loss: 0.6784 - accuracy: 0.6037 - val_loss: 0.6702 - val_accuracy: 0.5750 - lr: 0.0010\n",
      "Epoch 5/10\n",
      "1/1 [==============================] - 3s 3s/step - loss: 0.6723 - accuracy: 0.6025 - val_loss: 0.6619 - val_accuracy: 0.5800 - lr: 0.0010\n",
      "Epoch 6/10\n",
      "1/1 [==============================] - 3s 3s/step - loss: 0.6624 - accuracy: 0.6212 - val_loss: 0.6534 - val_accuracy: 0.6200 - lr: 0.0010\n",
      "Epoch 7/10\n",
      "1/1 [==============================] - 3s 3s/step - loss: 0.6495 - accuracy: 0.6363 - val_loss: 0.6508 - val_accuracy: 0.6000 - lr: 0.0010\n",
      "Epoch 8/10\n",
      "1/1 [==============================] - 4s 4s/step - loss: 0.6471 - accuracy: 0.6488 - val_loss: 0.6502 - val_accuracy: 0.6050 - lr: 0.0010\n",
      "Epoch 9/10\n",
      "1/1 [==============================] - 4s 4s/step - loss: 0.6470 - accuracy: 0.6350 - val_loss: 0.6440 - val_accuracy: 0.6350 - lr: 0.0010\n",
      "Epoch 10/10\n",
      "1/1 [==============================] - 4s 4s/step - loss: 0.6354 - accuracy: 0.6413 - val_loss: 0.6447 - val_accuracy: 0.6500 - lr: 0.0010\n"
     ]
    },
    {
     "data": {
      "image/png": "[encoded data removed]",
      "text/plain": [
       "<Figure size 432x288 with 1 Axes>"
      ]
     },
     "metadata": {},
     "output_type": "display_data"
    }
   ],
   "source": [
    "from tensorflow.keras.layers import Conv1D, Bidirectional, LSTM, Dense, Input, Dropout\n",
    "from tensorflow.keras.layers import SpatialDropout1D\n",
    "from tensorflow.keras.callbacks import ModelCheckpoint\n",
    "from tensorflow.keras.optimizers import Adam\n",
    "from tensorflow.keras.callbacks import ReduceLROnPlateau\n",
    "import matplotlib.pyplot as plt\n",
    "\n",
    "model_folder = \"model\"\n",
    "model_name = f\"model-{sample_size}.h5\"\n",
    "model_path = os.path.join(model_folder, model_name)\n",
    "\n",
    "if os.path.exists(model_folder):\n",
    "    if os.path.exists(model_path):\n",
    "        print(\"Loading model...\")\n",
    "        model = tf.keras.models.load_model(model_path)\n",
    "\n",
    "else:\n",
    "    print(\"Building the model\")\n",
    "\n",
    "    # Creating the model\n",
    "    sequence_input = Input(shape=(MAX_SEQUENCE_LENGTH,), dtype='int32')\n",
    "    embedding_sequences = embedding_layer(sequence_input)\n",
    "    x = SpatialDropout1D(0.2)(embedding_sequences)\n",
    "    x = Conv1D(64, 5, activation='relu')(x)\n",
    "    x = Bidirectional(LSTM(64, dropout=0.2, recurrent_dropout=0.2))(x)\n",
    "    x = Dense(512, activation='relu')(x)\n",
    "    x = Dropout(0.5)(x)\n",
    "    x = Dense(512, activation='relu')(x)\n",
    "    outputs = Dense(1, activation='sigmoid')(x)\n",
    "    model = tf.keras.Model(sequence_input, outputs)\n",
    "\n",
    "    # Compiling\n",
    "    model.compile(optimizer=Adam(learning_rate=1e-3), loss='binary_crossentropy', metrics=['accuracy'])\n",
    "    ReduceLROnPlateau = ReduceLROnPlateau(factor=0.1, min_lr = 0.01, monitor = 'val_loss', verbose = 1)\n",
    "\n",
    "    #Fitting\n",
    "    history = model.fit(X_train, Y_train, batch_size = 1024, epochs=10, validation_data=(X_test, Y_test), callbacks=[ReduceLROnPlateau])\n",
    "    \n",
    "\n",
    "\n",
    "    # save model\n",
    "    if not os.path.exists(model_folder):\n",
    "        os.makedirs(model_folder)\n",
    "    model.save(model_path)\n",
    "    # save with pickle\n",
    "    with open(f\"{model_path}\", 'wb') as handle:\n",
    "        pickle.dump(model, handle, protocol=pickle.HIGHEST_PROTOCOL)\n",
    "\n",
    "    # Plotting the training and validation loss\n",
    "    plt.plot(history.history['loss'])\n",
    "    plt.plot(history.history['val_loss'])\n",
    "    plt.title('Model loss')\n",
    "    plt.ylabel('Loss')\n",
    "    plt.xlabel('Epoch')\n",
    "    plt.legend(['Train', 'Test'], loc='upper left')\n",
    "    plt.gcf().set_facecolor('white')\n",
    "    plt.show()\n"
   ]
  },
  {
   "cell_type": "code",
   "execution_count": 26,
   "metadata": {},
   "outputs": [],
   "source": [
    "import matplotlib.pyplot as plt\n",
    "from sklearn.metrics import roc_curve, RocCurveDisplay, DetCurveDisplay, ConfusionMatrixDisplay\n",
    "\n",
    "\n",
    "\n",
    "def evaluate_roc_det(Y_test, Y_pred):\n",
    "    # two subplots\n",
    "    fig, axs = plt.subplots(1, 2, figsize=(15, 5))\n",
    "    ax_roc = axs[0]\n",
    "    ax_det = axs[1]\n",
    "\n",
    "    ax_roc.set_title(\"Receiver Operating Characteristic (ROC) curves\")\n",
    "    ax_det.set_title(\"Detection Error Tradeoff (DET) curves\")\n",
    "\n",
    "    DetCurveDisplay.from_predictions(Y_test, Y_pred, ax=ax_det)\n",
    "    RocCurveDisplay.from_predictions(Y_test, Y_pred, ax=ax_roc)\n",
    "    plt.gcf().set_facecolor('white')\n",
    "    plt.show()\n",
    "    \n",
    "\n",
    "def evaluate_confusion_matrix(Y_test, Y_pred, threshold, ax = None):\n",
    "    binary_pred = np.where(Y_pred > threshold, 1, 0)\n",
    "    ConfusionMatrixDisplay.from_predictions(Y_test, binary_pred, ax=ax)"
   ]
  },
  {
   "cell_type": "code",
   "execution_count": 27,
   "metadata": {},
   "outputs": [
    {
     "name": "stdout",
     "output_type": "stream",
     "text": [
      "7/7 [==============================] - 0s 24ms/step\n"
     ]
    },
    {
     "data": {
      "image/png": "[encoded data removed]",
      "text/plain": [
       "<Figure size 1080x360 with 2 Axes>"
      ]
     },
     "metadata": {},
     "output_type": "display_data"
    },
    {
     "data": {
      "image/png": "[encoded data removed]",
      "text/plain": [
       "<Figure size 2160x432 with 10 Axes>"
      ]
     },
     "metadata": {},
     "output_type": "display_data"
    }
   ],
   "source": [
    "Y_pred = model.predict(X_test)\n",
    "\n",
    "evaluate_roc_det(Y_test, Y_pred)\n",
    "\n",
    "possible_thresholds = np.linspace(0.1, 0.9, 5)\n",
    "fig, axs = plt.subplots(1, len(possible_thresholds), figsize=(6*len(possible_thresholds), 6))\n",
    "fig.suptitle(\"Confusion matrix for different thresholds\")\n",
    "\n",
    "for threshold, ax in zip(possible_thresholds, axs.ravel()):\n",
    "    evaluate_confusion_matrix(Y_test, Y_pred, threshold, ax = ax)\n",
    "    ax.set_title(f\"Confusion matrix with threshold {round(threshold, 1)}\")\n",
    "plt.gcf().set_facecolor('white')\n",
    "plt.show()"
   ]
  }
 ],
 "metadata": {
  "kernelspec": {
   "display_name": "Python 3.10.4 ('advancedEnv': venv)",
   "language": "python",
   "name": "python3"
  },
  "language_info": {
   "codemirror_mode": {
    "name": "ipython",
    "version": 3
   },
   "file_extension": ".py",
   "mimetype": "text/x-python",
   "name": "python",
   "nbconvert_exporter": "python",
   "pygments_lexer": "ipython3",
   "version": "3.10.4"
  },
  "vscode": {
   "interpreter": {
    "hash": "1e526d1b86ccc2ff4369d3419a9b2f32eff8c1521c407b82139bb69dea9ff471"
   }
  }
 },
 "nbformat": 4,
 "nbformat_minor": 4
}
